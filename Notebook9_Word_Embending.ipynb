{
  "nbformat": 4,
  "nbformat_minor": 0,
  "metadata": {
    "colab": {
      "provenance": []
    },
    "kernelspec": {
      "name": "python3",
      "display_name": "Python 3"
    },
    "language_info": {
      "name": "python"
    }
  },
  "cells": [
    {
      "cell_type": "markdown",
      "source": [
        "# **Word2Vec**"
      ],
      "metadata": {
        "id": "827tpPIEGprH"
      }
    },
    {
      "cell_type": "code",
      "execution_count": null,
      "metadata": {
        "id": "nD-7lzKQHFZl"
      },
      "outputs": [],
      "source": [
        "import gensim\n",
        "from gensim.models import Word2Vec"
      ]
    },
    {
      "cell_type": "code",
      "source": [
        "import pandas as pd\n",
        "import numpy as np"
      ],
      "metadata": {
        "id": "jDf6XuDUL5VC"
      },
      "execution_count": null,
      "outputs": []
    },
    {
      "cell_type": "code",
      "source": [
        "presentacion = [\n",
        "    ['mi', 'nombre', 'ser', 'antonio'],\n",
        "    ['mi', 'tener', '28', 'años', 'y', 'ser', 'cientifico', 'de', 'datos'],\n",
        "    ['mi', 'pelicula', 'favorita', 'ser', 'django'],\n",
        "    ['mi', 'gustar', 'el', 'futbol', 'y', 'el' ,'americano'],\n",
        "    ['mi', 'equipo', 'favorito', 'ser', 'liverpool'],\n",
        "    ['mi', 'gustar', 'la', 'comida', 'japonesa']\n",
        "]"
      ],
      "metadata": {
        "id": "YTIaDjQjL7aC"
      },
      "execution_count": null,
      "outputs": []
    },
    {
      "cell_type": "code",
      "source": [
        "model_mini = Word2Vec(sentences = presentacion, min_count= 1, vector_size= 10)\n",
        "print(model_mini)"
      ],
      "metadata": {
        "colab": {
          "base_uri": "https://localhost:8080/"
        },
        "id": "4q08xq9SL-Oy",
        "outputId": "2fa7bb0b-0585-417a-d0ff-ea909817bf6f"
      },
      "execution_count": null,
      "outputs": [
        {
          "output_type": "stream",
          "name": "stdout",
          "text": [
            "Word2Vec<vocab=24, vector_size=10, alpha=0.025>\n"
          ]
        }
      ]
    },
    {
      "cell_type": "code",
      "source": [
        "print(model_mini.wv['japonesa'])"
      ],
      "metadata": {
        "colab": {
          "base_uri": "https://localhost:8080/"
        },
        "id": "1D7e_F3_MENM",
        "outputId": "fe4d24f3-39a5-4658-b5d5-86925029d788"
      },
      "execution_count": null,
      "outputs": [
        {
          "output_type": "stream",
          "name": "stdout",
          "text": [
            "[ 0.09965602 -0.04363748 -0.00593667 -0.05698244  0.03856884  0.02783605\n",
            "  0.06890593  0.06104797  0.09536094  0.09273595]\n"
          ]
        }
      ]
    },
    {
      "cell_type": "code",
      "source": [
        "model_mini.wv.key_to_index"
      ],
      "metadata": {
        "colab": {
          "base_uri": "https://localhost:8080/"
        },
        "id": "ABHQSG9cMOv4",
        "outputId": "5bfad51e-47fd-436f-9ef0-70d931321f91"
      },
      "execution_count": null,
      "outputs": [
        {
          "output_type": "execute_result",
          "data": {
            "text/plain": [
              "{'mi': 0,\n",
              " 'ser': 1,\n",
              " 'el': 2,\n",
              " 'gustar': 3,\n",
              " 'y': 4,\n",
              " 'datos': 5,\n",
              " 'nombre': 6,\n",
              " 'antonio': 7,\n",
              " 'tener': 8,\n",
              " '28': 9,\n",
              " 'años': 10,\n",
              " 'cientifico': 11,\n",
              " 'de': 12,\n",
              " 'japonesa': 13,\n",
              " 'comida': 14,\n",
              " 'favorita': 15,\n",
              " 'django': 16,\n",
              " 'futbol': 17,\n",
              " 'americano': 18,\n",
              " 'equipo': 19,\n",
              " 'favorito': 20,\n",
              " 'liverpool': 21,\n",
              " 'la': 22,\n",
              " 'pelicula': 23}"
            ]
          },
          "metadata": {},
          "execution_count": 23
        }
      ]
    },
    {
      "cell_type": "code",
      "source": [
        "vocab = model_mini.wv.key_to_index\n",
        "vocab.keys()"
      ],
      "metadata": {
        "colab": {
          "base_uri": "https://localhost:8080/"
        },
        "id": "Fi_vOcPRPoU9",
        "outputId": "11bfc8c6-f617-4bee-9a83-5d72b1f8489f"
      },
      "execution_count": null,
      "outputs": [
        {
          "output_type": "execute_result",
          "data": {
            "text/plain": [
              "dict_keys(['mi', 'ser', 'el', 'gustar', 'y', 'datos', 'nombre', 'antonio', 'tener', '28', 'años', 'cientifico', 'de', 'japonesa', 'comida', 'favorita', 'django', 'futbol', 'americano', 'equipo', 'favorito', 'liverpool', 'la', 'pelicula'])"
            ]
          },
          "metadata": {},
          "execution_count": 24
        }
      ]
    },
    {
      "cell_type": "code",
      "source": [
        "X_mini = model_mini.wv[vocab.keys()]\n",
        "X_mini"
      ],
      "metadata": {
        "colab": {
          "base_uri": "https://localhost:8080/"
        },
        "id": "hoBfGcY1PyBV",
        "outputId": "bf2f5da6-6e4c-4d4d-d9b5-e9073dcad5ac"
      },
      "execution_count": null,
      "outputs": [
        {
          "output_type": "execute_result",
          "data": {
            "text/plain": [
              "array([[-0.00536227,  0.00236431,  0.0510335 ,  0.09009273, -0.0930295 ,\n",
              "        -0.07116809,  0.06458873,  0.08972988, -0.05015428, -0.03763372],\n",
              "       [ 0.07380505, -0.01533471, -0.04536613,  0.06554051, -0.0486016 ,\n",
              "        -0.01816018,  0.0287658 ,  0.00991874, -0.08285215, -0.09448818],\n",
              "       [ 0.0731664 ,  0.05066232,  0.06769606,  0.007573  ,  0.06367437,\n",
              "        -0.03410163, -0.00944201,  0.05782584, -0.07535953, -0.03937403],\n",
              "       [-0.07507457, -0.0093028 ,  0.09546229, -0.07322591, -0.02321804,\n",
              "        -0.01942166,  0.08078457, -0.05923115,  0.00039007, -0.04752908],\n",
              "       [-0.09602271,  0.05008184, -0.08755569, -0.04392126, -0.00033126,\n",
              "        -0.00298307, -0.07662516,  0.09615408,  0.04980484,  0.09231248],\n",
              "       [-0.08158551,  0.04491206, -0.04139107,  0.00820952,  0.08504539,\n",
              "        -0.04461534,  0.04523471, -0.06781939, -0.03549725,  0.09402893],\n",
              "       [-0.01577653,  0.00321372, -0.0414063 , -0.07682689, -0.01508008,\n",
              "         0.02469795, -0.00888027,  0.05533662, -0.02742977,  0.02260065],\n",
              "       [ 0.05455794,  0.08345953, -0.01453741, -0.09208143,  0.04370552,\n",
              "         0.00571785,  0.07441908, -0.00813283, -0.02638414, -0.08753009],\n",
              "       [-0.00856557,  0.02826563,  0.05401429,  0.07052656, -0.05703121,\n",
              "         0.0185882 ,  0.06088864, -0.04798051, -0.03107261,  0.0679763 ],\n",
              "       [ 0.01634217,  0.00186492,  0.03473383,  0.00215766,  0.09624603,\n",
              "         0.05062323, -0.089116  , -0.0703664 ,  0.00902545,  0.06396654],\n",
              "       [-0.08618939,  0.03660974,  0.05189333,  0.05737542,  0.07474387,\n",
              "        -0.06167386,  0.01112085,  0.0605309 , -0.0284078 , -0.06168615],\n",
              "       [-0.00410083, -0.08371338, -0.05601967,  0.07103731,  0.0335198 ,\n",
              "         0.07227336,  0.06802097,  0.07530955, -0.03785921, -0.00559268],\n",
              "       [ 0.02348151, -0.04522844,  0.08388173, -0.09862135,  0.06770737,\n",
              "         0.0291417 , -0.04926699,  0.04402792, -0.01740264,  0.06715058],\n",
              "       [ 0.09965602, -0.04363748, -0.00593667, -0.05698244,  0.03856884,\n",
              "         0.02783605,  0.06890593,  0.06104797,  0.09536094,  0.09273595],\n",
              "       [ 0.07898068, -0.06989504, -0.09155865, -0.00355753, -0.03099841,\n",
              "         0.07894317,  0.05938574, -0.01545663,  0.01510963,  0.01790041],\n",
              "       [ 0.07817571, -0.09510187, -0.00205531,  0.03469197, -0.00938972,\n",
              "         0.08381772,  0.09010784,  0.06536506, -0.00711621,  0.07710405],\n",
              "       [-0.08534335,  0.03207107, -0.04637997, -0.05088955,  0.03589618,\n",
              "         0.05370339,  0.07769515, -0.05766506,  0.07433361,  0.06625496],\n",
              "       [-0.03704398, -0.08742675,  0.05449758,  0.06504529, -0.00776462,\n",
              "        -0.06716229, -0.07088374, -0.02489532,  0.05132244, -0.03667898],\n",
              "       [-0.09366944,  0.03828239,  0.04890372, -0.06431688,  0.01211494,\n",
              "        -0.02077236,  0.00022693, -0.09882195,  0.02690943, -0.04750201],\n",
              "       [ 0.01087646, -0.01576225,  0.02196673, -0.07881576, -0.02717184,\n",
              "         0.02663199,  0.05346682, -0.02391515, -0.09510094,  0.04505879],\n",
              "       [ 0.00094564,  0.0307732 , -0.06812645, -0.01375465,  0.07668581,\n",
              "         0.0734641 , -0.03673297,  0.02642702, -0.08317129,  0.06205486],\n",
              "       [-0.04637323, -0.03164107,  0.09311356,  0.00873386,  0.07490703,\n",
              "        -0.06074063,  0.05160507,  0.09922823, -0.08457391, -0.05135691],\n",
              "       [-0.07068297, -0.04863847, -0.0377641 , -0.08538546,  0.0795964 ,\n",
              "        -0.04847619,  0.08424009,  0.05264205, -0.0655566 ,  0.03956333],\n",
              "       [ 0.0547015 , -0.07426536, -0.0740572 , -0.02475231, -0.08625726,\n",
              "        -0.01581572, -0.00403433,  0.03299684,  0.01441881, -0.00881422]],\n",
              "      dtype=float32)"
            ]
          },
          "metadata": {},
          "execution_count": 25
        }
      ]
    },
    {
      "cell_type": "code",
      "source": [
        "from sklearn.decomposition import PCA\n",
        "pca = PCA(n_components= 2) #n_component es la cantidad de dimensiones que necesitamos.\n",
        "X_mini_2d = pca.fit_transform(X_mini)\n",
        "X_mini_2d"
      ],
      "metadata": {
        "colab": {
          "base_uri": "https://localhost:8080/"
        },
        "id": "uTm_5UgRPuNw",
        "outputId": "ed65aff4-a117-4013-f79b-8bba90b548b8"
      },
      "execution_count": null,
      "outputs": [
        {
          "output_type": "execute_result",
          "data": {
            "text/plain": [
              "array([[-1.13607422e-01,  1.33065805e-01],\n",
              "       [-4.83740941e-02,  1.43567711e-01],\n",
              "       [-8.28460380e-02,  4.22212556e-02],\n",
              "       [-9.33657214e-02, -5.42519838e-02],\n",
              "       [ 6.70645609e-02, -9.61256176e-02],\n",
              "       [-4.51308768e-03, -1.18940987e-01],\n",
              "       [ 4.37545441e-02, -1.48262810e-02],\n",
              "       [-2.82830000e-02, -1.05171129e-02],\n",
              "       [-1.65448058e-02,  1.74753275e-02],\n",
              "       [ 3.78030762e-02, -9.28011835e-02],\n",
              "       [-1.47317499e-01, -1.72008220e-02],\n",
              "       [ 4.61822301e-02,  9.86115858e-02],\n",
              "       [ 3.47606130e-02, -5.16716875e-02],\n",
              "       [ 1.37106746e-01,  2.27925032e-02],\n",
              "       [ 1.31105185e-01,  7.99051672e-02],\n",
              "       [ 1.13986380e-01,  1.16207533e-01],\n",
              "       [ 7.27570280e-02, -1.24026455e-01],\n",
              "       [-8.14684033e-02,  1.14635164e-02],\n",
              "       [-8.43956694e-02, -1.24474749e-01],\n",
              "       [ 2.10795980e-02, -2.95940461e-03],\n",
              "       [ 7.15524554e-02, -3.80821601e-02],\n",
              "       [-1.37765288e-01,  3.54045853e-02],\n",
              "       [-4.13515918e-05, -4.49404083e-02],\n",
              "       [ 6.13698401e-02,  9.01039168e-02]], dtype=float32)"
            ]
          },
          "metadata": {},
          "execution_count": 26
        }
      ]
    },
    {
      "cell_type": "code",
      "source": [
        "import matplotlib.pyplot as plt\n",
        "plt.figure(figsize= (7,7))\n",
        "plt.scatter(X_mini_2d[:, 0], X_mini_2d[:, 1])\n",
        "words = list(vocab.keys())\n",
        "\n",
        "for i, word in enumerate(words):\n",
        "   plt.annotate(word, xy=(X_mini_2d[i, 0], X_mini_2d[i, 1]))\n",
        "\n",
        "plt.show()"
      ],
      "metadata": {
        "colab": {
          "base_uri": "https://localhost:8080/",
          "height": 599
        },
        "id": "BBU8XvCJP1tL",
        "outputId": "413692fe-aca7-49bf-d33f-3b4141ac6f9c"
      },
      "execution_count": null,
      "outputs": [
        {
          "output_type": "display_data",
          "data": {
            "text/plain": [
              "<Figure size 700x700 with 1 Axes>"
            ],
            "image/png": "[encoded data removed]"
          },
          "metadata": {}
        }
      ]
    },
    {
      "cell_type": "code",
      "source": [
        "model_mini.wv.most_similar(['pelicula'])"
      ],
      "metadata": {
        "id": "O5Yo4uD0QSJc",
        "outputId": "8dfb6faf-7b6c-4be4-928c-bee6e1cc20c8",
        "colab": {
          "base_uri": "https://localhost:8080/"
        }
      },
      "execution_count": null,
      "outputs": [
        {
          "output_type": "execute_result",
          "data": {
            "text/plain": [
              "[('comida', 0.631368100643158),\n",
              " ('ser', 0.41193631291389465),\n",
              " ('favorita', 0.35338476300239563),\n",
              " ('nombre', 0.3428654074668884),\n",
              " ('japonesa', 0.2823784649372101),\n",
              " ('cientifico', 0.21580740809440613),\n",
              " ('mi', 0.1605488657951355),\n",
              " ('y', 0.061490532010793686),\n",
              " ('equipo', 0.053066276013851166),\n",
              " ('futbol', 0.040249329060316086)]"
            ]
          },
          "metadata": {},
          "execution_count": 28
        }
      ]
    },
    {
      "cell_type": "markdown",
      "source": [
        "**OTRO EJEMPLO**"
      ],
      "metadata": {
        "id": "L5SWopJLGvja"
      }
    },
    {
      "cell_type": "code",
      "source": [
        "pip install gensim nltk matplotlib scikit-learn"
      ],
      "metadata": {
        "colab": {
          "base_uri": "https://localhost:8080/"
        },
        "id": "7H2kzdDOGyRX",
        "outputId": "43e376ab-3957-4f33-a2fe-4c0626b95ede"
      },
      "execution_count": null,
      "outputs": [
        {
          "output_type": "stream",
          "name": "stdout",
          "text": [
            "Requirement already satisfied: gensim in /usr/local/lib/python3.10/dist-packages (4.3.3)\n",
            "Requirement already satisfied: nltk in /usr/local/lib/python3.10/dist-packages (3.9.1)\n",
            "Requirement already satisfied: matplotlib in /usr/local/lib/python3.10/dist-packages (3.8.0)\n",
            "Requirement already satisfied: scikit-learn in /usr/local/lib/python3.10/dist-packages (1.6.0)\n",
            "Requirement already satisfied: numpy<2.0,>=1.18.5 in /usr/local/lib/python3.10/dist-packages (from gensim) (1.26.4)\n",
            "Requirement already satisfied: scipy<1.14.0,>=1.7.0 in /usr/local/lib/python3.10/dist-packages (from gensim) (1.13.1)\n",
            "Requirement already satisfied: smart-open>=1.8.1 in /usr/local/lib/python3.10/dist-packages (from gensim) (7.1.0)\n",
            "Requirement already satisfied: click in /usr/local/lib/python3.10/dist-packages (from nltk) (8.1.7)\n",
            "Requirement already satisfied: joblib in /usr/local/lib/python3.10/dist-packages (from nltk) (1.4.2)\n",
            "Requirement already satisfied: regex>=2021.8.3 in /usr/local/lib/python3.10/dist-packages (from nltk) (2024.11.6)\n",
            "Requirement already satisfied: tqdm in /usr/local/lib/python3.10/dist-packages (from nltk) (4.67.1)\n",
            "Requirement already satisfied: contourpy>=1.0.1 in /usr/local/lib/python3.10/dist-packages (from matplotlib) (1.3.1)\n",
            "Requirement already satisfied: cycler>=0.10 in /usr/local/lib/python3.10/dist-packages (from matplotlib) (0.12.1)\n",
            "Requirement already satisfied: fonttools>=4.22.0 in /usr/local/lib/python3.10/dist-packages (from matplotlib) (4.55.3)\n",
            "Requirement already satisfied: kiwisolver>=1.0.1 in /usr/local/lib/python3.10/dist-packages (from matplotlib) (1.4.7)\n",
            "Requirement already satisfied: packaging>=20.0 in /usr/local/lib/python3.10/dist-packages (from matplotlib) (24.2)\n",
            "Requirement already satisfied: pillow>=6.2.0 in /usr/local/lib/python3.10/dist-packages (from matplotlib) (11.0.0)\n",
            "Requirement already satisfied: pyparsing>=2.3.1 in /usr/local/lib/python3.10/dist-packages (from matplotlib) (3.2.0)\n",
            "Requirement already satisfied: python-dateutil>=2.7 in /usr/local/lib/python3.10/dist-packages (from matplotlib) (2.8.2)\n",
            "Requirement already satisfied: threadpoolctl>=3.1.0 in /usr/local/lib/python3.10/dist-packages (from scikit-learn) (3.5.0)\n",
            "Requirement already satisfied: six>=1.5 in /usr/local/lib/python3.10/dist-packages (from python-dateutil>=2.7->matplotlib) (1.17.0)\n",
            "Requirement already satisfied: wrapt in /usr/local/lib/python3.10/dist-packages (from smart-open>=1.8.1->gensim) (1.17.0)\n"
          ]
        }
      ]
    },
    {
      "cell_type": "code",
      "source": [
        "# Importar librerías necesarias\n",
        "from gensim.models import Word2Vec\n",
        "from nltk.corpus import brown\n",
        "import nltk\n",
        "\n",
        "# Descargar el corpus de Brown si no lo tienes\n",
        "nltk.download('brown')\n",
        "\n",
        "# Preparar el corpus: cada oración se convierte en una lista de palabras en minúsculas\n",
        "corpus = [list(map(str.lower, sent)) for sent in brown.sents()]\n"
      ],
      "metadata": {
        "colab": {
          "base_uri": "https://localhost:8080/"
        },
        "id": "M1iF5FYuHqEw",
        "outputId": "ac2ad443-18ae-4e91-8e18-a8908d0b6850"
      },
      "execution_count": null,
      "outputs": [
        {
          "output_type": "stream",
          "name": "stderr",
          "text": [
            "[nltk_data] Downloading package brown to /root/nltk_data...\n",
            "[nltk_data]   Package brown is already up-to-date!\n"
          ]
        }
      ]
    },
    {
      "cell_type": "code",
      "source": [
        "# Entrenar el modelo Word2Vec\n",
        "model = Word2Vec(\n",
        "    sentences=corpus,  # Corpus de texto\n",
        "    vector_size=100,   # Dimensiones del embedding\n",
        "    window=5,          # Ventana de contexto\n",
        "    min_count=5,       # Palabras mínimas para incluir en el vocabulario\n",
        "    workers=4          # Uso de múltiples núcleos para entrenar\n",
        ")\n",
        "\n",
        "# Explorar el modelo entrenado\n",
        "print(\"Palabras en el vocabulario:\", len(model.wv))\n",
        "print(\"Vector para la palabra 'king':\", model.wv['king'])\n"
      ],
      "metadata": {
        "colab": {
          "base_uri": "https://localhost:8080/"
        },
        "id": "nJQiJHWdHyle",
        "outputId": "68fe65a9-45e2-4e19-d83b-9c15c85215f3"
      },
      "execution_count": null,
      "outputs": [
        {
          "output_type": "stream",
          "name": "stdout",
          "text": [
            "Palabras en el vocabulario: 14221\n",
            "Vector para la palabra 'king': [ 0.15499263  0.48031092  0.15026608 -0.01998927 -0.20059325 -0.24444221\n",
            "  0.49952576  0.46933568 -0.08781799 -0.06885836 -0.05174641 -0.16428885\n",
            " -0.30862144 -0.07171772 -0.05179809 -0.17061171  0.02983894 -0.19170396\n",
            " -0.3793846  -0.46283957  0.25139478  0.15936056  0.5519258  -0.28573212\n",
            " -0.06010029 -0.15753727 -0.36977816 -0.13617869  0.13485073 -0.05163018\n",
            "  0.27273488  0.14256495  0.2010749  -0.49703002  0.19597009  0.08534493\n",
            "  0.19206043  0.19238558 -0.19634253 -0.10055827  0.28224897 -0.3095493\n",
            "  0.03450242  0.13392033  0.28157523  0.10002675 -0.27548307 -0.04544514\n",
            "  0.48815092  0.3334725   0.29785833 -0.45160633 -0.02130593 -0.16571695\n",
            " -0.3239467   0.02307574  0.32657433  0.03302827 -0.08932322  0.24623808\n",
            "  0.151006   -0.18764788  0.26339528 -0.0649342   0.11472993  0.48857805\n",
            "  0.3086458   0.47091368 -0.37436628  0.13234366 -0.31503943  0.10646895\n",
            "  0.3922284   0.26404122  0.16711295 -0.00352326  0.05776999  0.07293282\n",
            " -0.04125586  0.09950682 -0.49172142 -0.00120111 -0.25584996  0.14253026\n",
            " -0.1123169  -0.34010777  0.5995946  -0.00626103 -0.02162352  0.27169043\n",
            "  0.44331336 -0.17833415  0.01016734 -0.05894108  0.37963116  0.17704056\n",
            "  0.40405092  0.06765058 -0.22951044  0.12215754]\n"
          ]
        }
      ]
    },
    {
      "cell_type": "code",
      "source": [
        "# Palabras similares a 'money'\n",
        "similar_words_money = model.wv.most_similar('money', topn=5)\n",
        "print(\"Palabras más similares a 'money':\", similar_words_money)\n",
        "\n",
        "# Relación: 'king' - 'man' + 'woman' ≈ 'queen'\n",
        "analogy = model.wv.most_similar(positive=['king', 'woman'], negative=['man'], topn=1)\n",
        "print(\"Resultado de la analogía (king - man + woman):\", analogy)\n",
        "\n",
        "# Similitud entre 'king' y 'queen'\n",
        "similarity = model.wv.similarity('king', 'queen')\n",
        "print(\"Similitud entre 'king' y 'queen':\", similarity)\n"
      ],
      "metadata": {
        "colab": {
          "base_uri": "https://localhost:8080/"
        },
        "id": "GGNLnqGPH1sc",
        "outputId": "5dc71ec5-fda3-4f0e-80e3-53a67601cac9"
      },
      "execution_count": null,
      "outputs": [
        {
          "output_type": "stream",
          "name": "stdout",
          "text": [
            "Palabras más similares a 'money': [('trouble', 0.8883357644081116), ('job', 0.8843427300453186), ('care', 0.8805409073829651), ('fear', 0.8746218681335449), ('curriculum', 0.8717444539070129)]\n",
            "Resultado de la analogía (king - man + woman): [('won', 0.9278513789176941)]\n",
            "Similitud entre 'king' y 'queen': 0.9184655\n"
          ]
        }
      ]
    },
    {
      "cell_type": "code",
      "source": [
        "model.wv.most_similar(['money'])"
      ],
      "metadata": {
        "colab": {
          "base_uri": "https://localhost:8080/"
        },
        "id": "iAPWEl77LUIQ",
        "outputId": "b6b7f0ff-9d32-423c-eef2-764da8fdf63d"
      },
      "execution_count": null,
      "outputs": [
        {
          "output_type": "execute_result",
          "data": {
            "text/plain": [
              "[('trouble', 0.8883357644081116),\n",
              " ('job', 0.8843427300453186),\n",
              " ('care', 0.8805409073829651),\n",
              " ('fear', 0.8746218681335449),\n",
              " ('curriculum', 0.8717444539070129),\n",
              " ('freedom', 0.8539479374885559),\n",
              " ('faith', 0.8534526228904724),\n",
              " ('stress', 0.8489728569984436),\n",
              " ('work', 0.847146213054657),\n",
              " ('reasonable', 0.8405848741531372)]"
            ]
          },
          "metadata": {},
          "execution_count": 29
        }
      ]
    },
    {
      "cell_type": "code",
      "source": [
        "model.wv.most_similar(positive=['king', 'woman'], negative=['man'], topn=1)"
      ],
      "metadata": {
        "colab": {
          "base_uri": "https://localhost:8080/"
        },
        "id": "0puzLs8WLZqa",
        "outputId": "b6b68efb-bdf2-4a79-8011-27830dd7cafe"
      },
      "execution_count": null,
      "outputs": [
        {
          "output_type": "execute_result",
          "data": {
            "text/plain": [
              "[('won', 0.9278513789176941)]"
            ]
          },
          "metadata": {},
          "execution_count": 30
        }
      ]
    },
    {
      "cell_type": "code",
      "source": [
        "model.wv.similarity('king', 'queen')"
      ],
      "metadata": {
        "id": "WlQbUQ6FLeLt",
        "outputId": "5184e59b-fb39-49cb-a258-402bb473f536",
        "colab": {
          "base_uri": "https://localhost:8080/"
        }
      },
      "execution_count": null,
      "outputs": [
        {
          "output_type": "execute_result",
          "data": {
            "text/plain": [
              "0.9184655"
            ]
          },
          "metadata": {},
          "execution_count": 31
        }
      ]
    },
    {
      "cell_type": "code",
      "source": [
        "from sklearn.manifold import TSNE\n",
        "import matplotlib.pyplot as plt\n",
        "import numpy as np\n",
        "\n",
        "# Palabras a visualizar\n",
        "words_to_visualize = ['king', 'queen', 'man', 'woman', 'money', 'bank', 'river', 'loan']\n",
        "\n",
        "# Asegurarnos de que las palabras estén en el vocabulario\n",
        "words_to_visualize = [word for word in words_to_visualize if word in model.wv]\n",
        "\n",
        "# Obtener vectores de estas palabras\n",
        "word_vectors = np.array([model.wv[word] for word in words_to_visualize])\n",
        "\n",
        "# Asegurarnos de que perplexity < n_samples\n",
        "n_samples = len(word_vectors)\n",
        "perplexity = min(5, n_samples - 1)  # Ajustar perplexity dinámicamente\n",
        "\n",
        "# Reducir a 2D con t-SNE\n",
        "tsne = TSNE(n_components=2, random_state=42, perplexity=perplexity)\n",
        "word_vectors_2d = tsne.fit_transform(word_vectors)\n",
        "\n",
        "# Graficar las palabras\n",
        "plt.figure(figsize=(10, 8))\n",
        "for i, word in enumerate(words_to_visualize):\n",
        "    x, y = word_vectors_2d[i]\n",
        "    plt.scatter(x, y, color='blue')\n",
        "    plt.text(x + 0.1, y + 0.1, word, fontsize=12)\n",
        "plt.title(\"Visualización de Word Embeddings con t-SNE\")\n",
        "plt.show()\n"
      ],
      "metadata": {
        "colab": {
          "base_uri": "https://localhost:8080/",
          "height": 699
        },
        "id": "YjsTehBvG14W",
        "outputId": "d3832692-b359-421d-8c33-55fc9f13fd81"
      },
      "execution_count": null,
      "outputs": [
        {
          "output_type": "display_data",
          "data": {
            "text/plain": [
              "<Figure size 1000x800 with 1 Axes>"
            ],
            "image/png": "[encoded data removed]"
          },
          "metadata": {}
        }
      ]
    },
    {
      "cell_type": "markdown",
      "source": [
        "# **WE con Spacy**"
      ],
      "metadata": {
        "id": "IFY1PvJNPKsq"
      }
    },
    {
      "cell_type": "code",
      "source": [
        "!python -m spacy download en_core_web_md\n"
      ],
      "metadata": {
        "id": "HdZWswqjOuuh"
      },
      "execution_count": null,
      "outputs": []
    },
    {
      "cell_type": "code",
      "source": [
        "import spacy\n",
        "\n",
        "# Cargar modelo de spaCy con embeddings preentrenados\n",
        "nlp = spacy.load(\"en_core_web_md\")\n",
        "\n",
        "# Texto de ejemplo\n",
        "doc = nlp(\"The cat sat on the mat.\")\n",
        "\n",
        "# Ver el vector de una palabra\n",
        "print(\"Vector de 'cat':\", doc[1].vector)\n",
        "\n",
        "# Comparar similitudes\n",
        "word1 = nlp(\"cat\")\n",
        "word2 = nlp(\"dog\")\n",
        "print(\"Similitud entre 'cat' y 'dog':\", word1.similarity(word2))\n"
      ],
      "metadata": {
        "colab": {
          "base_uri": "https://localhost:8080/"
        },
        "id": "XdYc6pOCOiAU",
        "outputId": "2168ff57-0871-412b-e402-7ecb88c6a0f8"
      },
      "execution_count": null,
      "outputs": [
        {
          "output_type": "stream",
          "name": "stdout",
          "text": [
            "Vector de 'cat': [ 3.7032e+00  4.1982e+00 -5.0002e+00 -1.1322e+01  3.1702e-02 -1.0255e+00\n",
            " -3.0870e+00 -3.7327e+00  5.3875e-01  3.5679e+00  6.9276e+00  1.5793e+00\n",
            "  5.1188e-01  3.1868e+00  6.1534e+00 -4.8941e+00 -2.9959e-01 -3.6276e+00\n",
            "  2.3825e+00 -1.4402e+00 -4.7577e+00  4.3607e+00 -4.9814e+00 -3.6672e+00\n",
            " -1.8052e+00 -2.1888e+00 -4.2875e+00  5.5712e+00 -5.2875e+00 -1.8346e+00\n",
            " -2.2015e+00 -7.7091e-01 -4.8260e+00  1.2464e+00 -1.7945e+00 -8.1280e+00\n",
            "  1.9994e+00  1.1413e+00  3.8032e+00 -2.8783e+00 -4.2136e-01 -4.4177e+00\n",
            "  7.7456e+00  4.9535e+00  1.7402e+00  1.8275e-01  2.4218e+00 -3.1496e+00\n",
            " -3.8057e-02 -2.9818e+00  8.3396e-01  1.1531e+01  3.5684e+00  2.5970e+00\n",
            " -2.8438e+00  3.2755e+00  4.5674e+00  3.2219e+00  3.4206e+00  1.1200e-01\n",
            "  1.0303e-01 -5.8396e+00  4.6370e-01  2.7750e+00 -5.3713e+00 -5.0247e+00\n",
            " -2.0212e+00  5.8772e-01  1.1569e+00  1.3224e+00  4.3994e+00  2.0444e+00\n",
            "  2.1343e+00 -1.9023e+00  2.1469e+00 -2.9085e+00  4.8429e-01 -3.3544e-01\n",
            "  1.4484e+00 -1.5770e+00 -1.1307e+00  2.8320e+00  6.2041e-01  3.7994e+00\n",
            " -3.1162e-01 -6.9221e+00  7.1342e+00  7.2441e+00 -8.9326e+00 -2.7927e+00\n",
            "  2.6613e-01  6.7547e-01  6.7293e+00 -5.8127e+00  3.1567e+00 -1.0634e+00\n",
            " -1.5733e+00  1.3534e+00  3.9218e-01 -8.7077e+00  3.4229e-02  3.3251e+00\n",
            "  4.6713e+00  1.1865e-02  9.8345e-01 -5.3206e-02 -9.1613e+00  6.0161e+00\n",
            " -2.2223e+00  2.5015e+00 -6.0702e-01 -3.6344e-02  7.1884e+00 -1.4431e+00\n",
            "  2.6156e+00 -1.0148e+00  4.1225e+00 -1.8472e+00  4.6292e+00 -2.6506e+00\n",
            " -1.8937e+00  4.1749e+00 -9.6644e+00 -2.4813e+00 -2.7637e+00 -1.0624e+00\n",
            "  3.5988e+00  4.9833e+00  6.4499e-01  2.5784e-01  9.8727e-01 -4.2485e+00\n",
            "  3.4272e-01 -2.2270e+00 -1.8957e+00  8.0796e-01 -2.0265e+00 -6.1828e+00\n",
            " -2.2378e+00  2.8216e+00 -2.0050e+00 -3.8924e+00 -2.9364e-01 -1.6128e+00\n",
            " -6.7874e-01 -1.9855e+00  1.8221e-01  2.1575e+00  4.9825e-01 -1.7326e+00\n",
            "  4.7886e+00  2.9904e+00  8.3447e-01 -4.7417e+00  2.4697e+00  1.3751e+00\n",
            "  4.5358e+00  6.5386e-01  5.5413e+00  2.3963e+00  1.0031e+00 -8.0664e-01\n",
            " -1.4126e+00  2.8689e+00 -8.7339e+00 -2.7457e+00 -3.1805e-01 -2.4484e-01\n",
            "  3.7117e+00 -1.8636e+00  2.9959e-01  6.5062e-02 -1.5682e+00  1.5876e+00\n",
            "  6.9224e-01 -6.7734e+00  3.1065e+00  2.3973e+00 -3.5138e+00  3.4460e+00\n",
            "  3.4252e+00 -5.1906e+00 -6.9372e-01  1.9435e+00 -1.5669e-01  1.9710e+00\n",
            "  8.7743e-01 -8.3110e+00 -4.0306e-01 -5.0165e+00 -5.6309e-02  4.9249e+00\n",
            " -7.1053e+00 -5.2338e+00  2.3535e+00 -2.5255e+00 -2.7785e+00  5.0149e+00\n",
            " -2.8405e+00 -1.8614e+00  2.8818e-03  1.3281e+00  1.0194e+00  3.5155e+00\n",
            "  2.7971e-01  1.3251e+00  1.4386e+00 -6.1719e-01 -2.6864e+00 -3.9613e+00\n",
            "  4.5749e+00 -1.0939e+00  1.3289e+00 -9.5484e-01 -5.4675e+00  2.1607e+00\n",
            "  5.0715e-01  1.4860e-01 -4.8571e+00 -2.2213e+00 -2.3498e-01 -4.2629e+00\n",
            " -8.7002e-01  3.3796e+00 -4.3989e+00  6.1047e+00  3.7927e+00 -6.0760e+00\n",
            "  3.1840e+00 -8.3104e-01 -5.4015e+00 -6.2916e+00  1.2497e+00  1.8026e+00\n",
            " -3.4535e+00 -2.1652e-01 -1.4958e+00  5.7946e-01  2.2505e+00  2.0868e+00\n",
            "  3.9621e-01  1.6076e+00  4.0635e+00 -3.4088e+00 -1.0590e+00 -3.6376e+00\n",
            "  2.0501e+00  1.4785e+00 -1.8906e+00 -2.6215e-01 -5.1386e+00  3.7029e+00\n",
            " -1.8151e+00 -3.2759e+00 -5.1866e+00  2.5485e-01 -4.5696e+00  1.0147e+01\n",
            " -3.0195e+00 -2.4640e+00  7.5459e-01 -5.6395e+00 -5.4095e+00 -2.4363e+00\n",
            " -4.3922e-01 -4.0911e+00 -3.5194e+00  1.8031e+00 -1.3644e-01  6.7990e+00\n",
            "  5.8461e+00  5.3452e-01  1.1042e+00  3.5698e+00  4.4668e+00 -2.4537e+00\n",
            " -2.1832e+00  1.5293e+00 -1.9414e+00 -8.8675e-02 -1.1825e+00 -3.9996e+00\n",
            "  2.8077e+00 -1.8000e+00  4.2545e+00 -1.3813e+00 -2.2921e+00  3.7889e+00\n",
            " -1.5837e+00 -7.2078e-01  4.7743e+00 -3.0923e+00  8.4709e+00  3.0132e-01\n",
            " -5.6173e+00 -5.4610e-01 -4.8459e+00  6.0303e+00 -6.9664e+00  3.1445e+00]\n",
            "Similitud entre 'cat' y 'dog': 0.8220816752553904\n"
          ]
        }
      ]
    }
  ]
}